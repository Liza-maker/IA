{
 "cells": [
  {
   "cell_type": "code",
   "execution_count": null,
   "id": "c95414aa",
   "metadata": {},
   "outputs": [],
   "source": [
    "from sentence_transformers import SentenceTransformer\n",
    "from pypdf import PdfReader\n",
    "from langchain.text_splitter import RecursiveCharacterTextSplitter\n",
    "from langchain.schema import Document\n",
    "\n",
    "\n",
    "def readPdf(list_file):\n",
    "    \"\"\"\n",
    "    Fonction qui transforme des pdf en texte :\n",
    "\n",
    "    Args:\n",
    "        file (list): liste des fichiers\n",
    "\n",
    "    Returns:\n",
    "        text : contenu du fichier\n",
    "    \"\"\"\n",
    "    list_texts = []\n",
    "    for file in list_file:\n",
    "        reader = PdfReader(file)\n",
    "        nb_pages = len(reader.pages)\n",
    "        for i in range(nb_pages):\n",
    "            page = reader.pages[i]\n",
    "            text = page.extract_text()\n",
    "            list_texts.append(text)\n",
    "    return list_texts\n",
    "\n",
    "\n",
    "\n",
    "document = readPdf([\"pdf-exemple.pdf\",\"sample.pdf\",\"rugby.pdf\",\"mes-fiches-animaux-de-la-ferme.pdf\",\"vaches.pdf\"])\n",
    "#document = readPdf([])\n",
    "\n",
    "docs = [Document(page_content=page_text) for page_text  in document]\n",
    "#Fait une découpe plus intelligente que ma fonction grâce à chunk_overlap qui va essayer de trouver une phrase avant la découpe.\n",
    "splitter = RecursiveCharacterTextSplitter(chunk_size = 400, chunk_overlap=75,separators=[\"\\n\\n\",\"\\n\",\".\",\"!\",\"?\"])\n",
    "splits_docs = splitter.split_documents(docs)\n",
    "chunks = [doc.page_content for doc in splits_docs]\n",
    "\n",
    "#Nettoyage en remplaçant sauf ligne par espace : \n",
    "def clean_chunk(text):\n",
    "    return ' '.join(text.replace('\\n', ' ').split())\n",
    "\n",
    "chunks = [clean_chunk(chunk) for chunk in chunks]\n"
   ]
  },
  {
   "cell_type": "code",
   "execution_count": 34,
   "id": "d0910cdd",
   "metadata": {},
   "outputs": [
    {
     "name": "stdout",
     "output_type": "stream",
     "text": [
      "Chunk 0 :\n",
      "Fichier PDF d'exemple Le Portable Document Format (qui se traduit de l'anglais en « format de document portable »), généralement abrégé PDF, est un format de fichier informatique créé par Adobe Systems. C'est un format ouvert dont les spécifications sont publiques et utilisables librement (certains éléments sont à disposition sur le site Adobe). Il est\n",
      "--------------------------------------------------\n",
      "Chunk 1 :\n",
      "dérivé du format PostScript et contient des données au format XML. Le format PDF est un format de fichier qui préserve les polices, les images, les objets graphiques et la mise en forme de tout document source, quelles que soient l'application et la plate-forme utilisées pour le créer. Les fichiers PDF peuvent être créés avec des\n",
      "--------------------------------------------------\n",
      "Chunk 2 :\n",
      "options personnalisées, tant aux niveaux de la compression des images et des textes, de la qualité d'impression du fichier, ainsi que du verrouillage (interdiction d'impression, de modification...). Le format PDF n'est pas un format statique mais un format interactif. Il est en effet possible (grâce à Acrobat Pro) d'incorporer des champs de textes, des menus\n",
      "--------------------------------------------------\n",
      "Chunk 3 :\n",
      "déroulants, des choix, des calculs... sur un document universel PDF : on parle alors de formulaire PDF. Le PDF est consultable sur de très nombreux appareils communicants (ordinateurs, assistants personnels numériques / PDA, nouveaux téléphones hybrides...). En effet, le lecteur gratuit, nommé « Adobe Reader » est disponible sur de très nombreuses\n",
      "--------------------------------------------------\n",
      "Chunk 4 :\n",
      "plateformes et systèmes d'exploitations : Mac OS, Windows, Linux, Palm OS, Pocket PC, Symbian OS, Sun Solaris Sparc, IBM AIX, HP-UX, OS/2 / Warp... De nombreux autes lecteurs dont certains sont des logiciels libres, existent également. La génération de documents dans ce format est possible à l'aide de logiciels spécialisés, d'imprimantes\n",
      "--------------------------------------------------\n",
      "Chunk 5 :\n",
      "virtuelles mais elle est également possible automatiquement dans certaines suites bureautiques. C'est ainsi que ce format universel est considéré comme le format mondial d'échange (et d'archivage) de documents électroniques. Il existe des variantes du format PDF de base, dit PDF 1.3 ou 1.4, des versions «\n",
      "--------------------------------------------------\n",
      "Chunk 6 :\n",
      "rastérisées » (la rastérisation consiste à transformer les textes modifiables en images matricielles figées accompagnées des images d'illustration) dites PDF-IT et PDF-X. Cette version est principallement utilisée dans l'industrie graphique lors de la séparation des couleurs en quadrichromie, au niveau du RIP.\n",
      "--------------------------------------------------\n",
      "Chunk 7 :\n",
      "couleurs en quadrichromie, au niveau du RIP. Une nouvelle forme de fichiers PDF voit actuellement le jour. Dans ce dernier, le fichier image du texte est transformé en vecteurs au lieu d'un fichier bitmap, ce qui permet l'allégement du fichier ainsi que la capacité d'être agrandi à l'envie.\n",
      "--------------------------------------------------\n",
      "Chunk 8 :\n",
      "Sample PDFThis is a simple PDF ﬁle. Fun fun fun. Lorem ipsum dolor sit amet, consectetuer adipiscing elit. Phasellus facilisis odio sed mi. Curabitur suscipit. Nullam vel nisi. Etiam semper ipsum ut lectus. Proin aliquam, erat eget pharetra commodo, eros mi condimentum quam, sed commodo justo quam ut velit. Integer a erat. Cras laoreet ligula cursus enim. Aenean scelerisque velit et tellus.\n",
      "--------------------------------------------------\n",
      "Chunk 9 :\n",
      "Vestibulum dictum aliquet sem. Nulla facilisi. Vestibulum accumsan ante vitae elit. Nulla erat dolor, blandit in, rutrum quis, semper pulvinar, enim. Nullam varius congue risus. Vivamus sollicitudin, metus ut interdum eleifend, nisi tellus pellentesque elit, tristique accumsan eros quam et risus. Suspendisse libero odio, mattis sit amet, aliquet eget,\n",
      "--------------------------------------------------\n"
     ]
    }
   ],
   "source": [
    "#On analyse nos chunks : \n",
    "for i, chunk in enumerate(chunks[:10]):\n",
    "    print(f\"Chunk {i} :\\n{chunk}\\n{'-'*50}\")\n"
   ]
  },
  {
   "cell_type": "code",
   "execution_count": null,
   "id": "0bdc0172",
   "metadata": {},
   "outputs": [
    {
     "data": {
      "application/vnd.jupyter.widget-view+json": {
       "model_id": "030d3dd0fb7441ed9c97c8689ea3b8d9",
       "version_major": 2,
       "version_minor": 0
      },
      "text/plain": [
       "Batches:   0%|          | 0/25 [00:00<?, ?it/s]"
      ]
     },
     "metadata": {},
     "output_type": "display_data"
    },
    {
     "data": {
      "application/vnd.jupyter.widget-view+json": {
       "model_id": "14db71f093ff45e6a549b97e330fe5c5",
       "version_major": 2,
       "version_minor": 0
      },
      "text/plain": [
       "Batches:   0%|          | 0/1 [00:00<?, ?it/s]"
      ]
     },
     "metadata": {},
     "output_type": "display_data"
    }
   ],
   "source": [
    "\n",
    "#On embedding (transférer les phrases par des vecteurs)\n",
    "modelEmbedding = SentenceTransformer(\"all-MiniLM-L6-v2\")\n",
    "embedding = modelEmbedding.encode(chunks, show_progress_bar=True, convert_to_numpy=True)\n",
    "\n",
    "user_text = input(\"Entrez votre phrase : \")\n",
    "embedding_user = modelEmbedding.encode([user_text],show_progress_bar=True, convert_to_numpy=True).astype(\"float32\")\n"
   ]
  },
  {
   "cell_type": "code",
   "execution_count": null,
   "id": "1f8cc70c",
   "metadata": {},
   "outputs": [
    {
     "name": "stdout",
     "output_type": "stream",
     "text": [
      "Question de l'utilisateur : Comment vont les joueurs de Rugby ? ca va ?\n",
      "\n",
      "1. Score = 0.71 | Les règle du rugby La durée:la durée d'un match de rugby est de 2x 40minutes pour les séniors. les règles: il doit y avoir 15 joueurs obligatoirement dans une équipe de rugby. Un match commence par un coup d’envoi. Après le coup d’envoi, tout joueur qui est en jeu peut se saisir du ballon et courir en le portant. Un joueur peut lancer le ballon ou le botter.\n",
      "2. Score = 0.66 | Un joueur peut faire un touché à terre dans un en-but. Un porteur du ballon peut effectuer un raffut sur un adversaire. Toute action d’un joueur doit être faite dans le respect des Règles du Jeu. Un joueur et obliger de passer la balle en arrière Un terrain de rugby:\n",
      "3. Score = 0.64 | • Hors-jeu :quand on et en avant du ballon. • Mêlée :huit joueurs de chaque équipe, liés entre eux sur trois lignes pour chaque équipe. • Pénalité :La pénalité est un geste technique. • Touch e: il faut lancer le ballons a la quand on et en touche. VOICI QUELQUE PHOTO DE BALLONS DE RUGBY:\n",
      "4. Score = 0.54 | courir en le portant. Un joueur peut lancer le ballon ou le botter. Un joueur peut donner le ballon à un autre joueur. Un joueur peut plaquer, tenir ou pousser un adversaire porteur du ballon. Un joueur peut tomber sur le ballon. Un joueur peut prendre part à une mêlée ordonnée, une mêlée spontanée (ruck), un maul ou un alignement. Un joueur peut faire un touché à terre dans un en-but.\n"
     ]
    }
   ],
   "source": [
    "import faiss\n",
    "import math\n",
    "\n",
    "dimension = embedding.shape[1]\n",
    "index = faiss.IndexFlatIP(dimension)  # 32 = nombre de voisins (standard)\n",
    "output_text = []\n",
    "\n",
    "#on ajoute les embeddings : \n",
    "index.add(embedding)\n",
    "print(f\"Question de l'utilisateur : {user_text}\\n\")\n",
    "distances, indices = index.search(embedding_user, k=4)\n",
    "for i, idx in enumerate(indices[0]):\n",
    "    score = math.ceil(distances[0][i]*100)/100\n",
    "    print(f\"{i+1}. Score = {distances[0][i]:.2f} | {chunks[idx]}\")\n",
    "    output_text.append(chunks[idx])"
   ]
  },
  {
   "cell_type": "code",
   "execution_count": 37,
   "id": "d18a8877",
   "metadata": {},
   "outputs": [
    {
     "data": {
      "text/plain": [
       "'\\n#On utilise la recherche sémantique pour retrouver les vecteurs les plus proches (donc les plus probables)\\nresult = util.semantic_search(embedding_user,embedding)[0]\\nprint(result)\\noutput_text = []\\n\\n#On inclut une réponse par défaut si la similarité est pas assez haute pour répondre à la question posée.\\n\\nfor item in result:\\n    score = math.ceil(item[\"score\"]*100)/100\\n    print(score, \"|\", chunks[item[\"corpus_id\"]])\\n\\n    #On fait un top 10 des réponses les plus probables et qui sont le plus probable de sortir (arrondi >0.6)\\n    if len(output_text) < 10 and score >= 0.6:\\n        output_text.append(chunks[item[\"corpus_id\"]])\\n'"
      ]
     },
     "execution_count": 37,
     "metadata": {},
     "output_type": "execute_result"
    }
   ],
   "source": [
    "\"\"\"\n",
    "#On utilise la recherche sémantique pour retrouver les vecteurs les plus proches (donc les plus probables)\n",
    "result = util.semantic_search(embedding_user,embedding)[0]\n",
    "print(result)\n",
    "output_text = []\n",
    "\n",
    "#On inclut une réponse par défaut si la similarité est pas assez haute pour répondre à la question posée.\n",
    "\n",
    "for item in result:\n",
    "    score = math.ceil(item[\"score\"]*100)/100\n",
    "    print(score, \"|\", chunks[item[\"corpus_id\"]])\n",
    "    \n",
    "    #On fait un top 10 des réponses les plus probables et qui sont le plus probable de sortir (arrondi >0.6)\n",
    "    if len(output_text) < 10 and score >= 0.6:\n",
    "        output_text.append(chunks[item[\"corpus_id\"]])\n",
    "\"\"\""
   ]
  },
  {
   "cell_type": "code",
   "execution_count": 4,
   "id": "e0f86457",
   "metadata": {},
   "outputs": [
    {
     "data": {
      "application/vnd.jupyter.widget-view+json": {
       "model_id": "2302fad7e2d5440e8ea54a0c8bcd8e88",
       "version_major": 2,
       "version_minor": 0
      },
      "text/plain": [
       "Loading checkpoint shards:   0%|          | 0/3 [00:00<?, ?it/s]"
      ]
     },
     "metadata": {},
     "output_type": "display_data"
    },
    {
     "name": "stdout",
     "output_type": "stream",
     "text": [
      "Longueur token du prompt :  597\n"
     ]
    },
    {
     "name": "stderr",
     "output_type": "stream",
     "text": [
      "c:\\Users\\PC7\\AppData\\Local\\Programs\\Python\\Python313\\Lib\\site-packages\\transformers\\generation\\configuration_utils.py:631: UserWarning: `do_sample` is set to `False`. However, `temperature` is set to `0.1` -- this flag is only used in sample-based generation modes. You should set `do_sample=True` or unset `temperature`.\n",
      "  warnings.warn(\n",
      "Setting `pad_token_id` to `eos_token_id`:2 for open-end generation.\n"
     ]
    },
    {
     "name": "stdout",
     "output_type": "stream",
     "text": [
      "\n",
      "Voici des extraits de documents jugés pertinents pour répondre à la question ci-dessous. Reformule ta réponse de manière claire.\n",
      "Extraits : \n",
      "[\"Les règle du rugby La durée:la durée d'un match de rugby est de 2x 40minutes pour les séniors. les règles: il doit y avoir 15 joueurs obligatoirement dans une équipe de rugby. Un match commence par un coup d’envoi. Après le coup d’envoi, tout joueur qui est en jeu peut se saisir du ballon et courir en le portant. Un joueur peut lancer le ballon ou le botter.\", 'Un joueur peut faire un touché à terre dans un en-but. Un porteur du ballon peut effectuer un raffut sur un adversaire. Toute action d’un joueur doit être faite dans le respect des Règles du Jeu. Un joueur et obliger de passer la balle en arrière Un terrain de rugby:', '• Hors-jeu :quand on et en avant du ballon. • Mêlée :huit joueurs de chaque équipe, liés entre eux sur trois lignes pour chaque équipe. • Pénalité :La pénalité est un geste technique. • Touch e: il faut lancer le ballons a la quand on et en touche. VOICI QUELQUE PHOTO DE BALLONS DE RUGBY:', 'courir en le portant. Un joueur peut lancer le ballon ou le botter. Un joueur peut donner le ballon à un autre joueur. Un joueur peut plaquer, tenir ou pousser un adversaire porteur du ballon. Un joueur peut tomber sur le ballon. Un joueur peut prendre part à une mêlée ordonnée, une mêlée spontanée (ruck), un maul ou un alignement. Un joueur peut faire un touché à terre dans un en-but.']\n",
      "\n",
      "\n",
      "Consignes : \n",
      "\n",
      "- Ne génère ta réponse qu'en te basant strictement sur le contenu des documents ci-dessus, en la reformulant pour être compréhensible.\n",
      "- Si les documents ne permettent pas de répondre clairement à la question, dis simplement : \n",
      "\"Je ne peux pas répondre à cette question avec les documents fournis.\"\n",
      "Question :\n",
      "Comment vont les joueurs de Rugby ? ca va ?\n",
      "Réponse:\n",
      "Les règles du rugby prévoient que chaque équipe doit compter 15 joueurs minimum. Un match de rugby senior dure 2 fois 40 minutes. Les joueurs peuvent courir en portant le ballon, lancer ou botter le ballon, donner le ballon à un autre joueur, plaqué, tenir ou pousser un adversaire porteur du ballon, tomber sur le ballon, prendre part à une mêlée ordonnée, une mêlée spontanée (ruck), un maul ou un alignement, ou faire un touché à terre dans un en-but. Les joueurs doivent respecter les règles du jeu tout au long du match. Ils peuvent effectuer des actions telles que lancer le ballon à un coéquipier lorsqu'ils sont en jeu, ou effectuer un\n"
     ]
    }
   ],
   "source": [
    "from transformers import AutoTokenizer, AutoModelForCausalLM,AutoModelForSeq2SeqLM\n",
    "import time\n",
    "from datetime import datetime\n",
    "from csv import writer\n",
    "\n",
    "t0 = time.time()\n",
    "model_name = \"mistralai/Mistral-7B-Instruct-v0.2\"\n",
    "#model_name = \"google/flan-t5-large\" Très très bon déjà mais limite 512 tokens\n",
    "#model_name = \"google/flan-t5-xl\"\n",
    "#\n",
    "tokenizer = AutoTokenizer.from_pretrained(model_name)\n",
    "#model = AutoModelForSeq2SeqLM.from_pretrained(model_name)\n",
    "model = AutoModelForCausalLM.from_pretrained(model_name)\n",
    "DEFAULT_RESPONSE = \"Désolé, les fichiers ne permettent pas de répondre à vos questions.\"\n",
    "\n",
    "prompt_template = \"\"\"\n",
    "Voici des extraits de documents jugés pertinents pour répondre à la question ci-dessous. Reformule ta réponse de manière claire.\n",
    "Extraits : \n",
    "\"\"\" + str(output_text) +  \"\"\"\\n\\n\n",
    "Consignes : \\n\n",
    "- Ne génère ta réponse qu'en te basant strictement sur le contenu des documents ci-dessus, en la reformulant pour être compréhensible.\n",
    "- Si les documents ne permettent pas de répondre clairement à la question, dis simplement : \n",
    "\"Je ne peux pas répondre à cette question avec les documents fournis.\"\n",
    "Question :\n",
    "\"\"\"+ user_text  +\"\"\"\n",
    "Réponse:\n",
    "\"\"\"\n",
    "\n",
    "\n",
    "if len(output_text) > 0 and len(document) > 0:\n",
    "    #On remplace les mots par des vecteurs : \n",
    "    inputs = tokenizer(prompt_template,return_tensors=\"pt\")\n",
    "    print(\"Longueur token du prompt : \",inputs['input_ids'].shape[1])\n",
    "    eos_token_id = tokenizer.eos_token_id  # Utilise le token EOS pour arrêter la génération\n",
    "\n",
    "    # Permet de faire répondre le modèle sur les vecteurs que l'on vient de créer\n",
    "    outputs = model.generate(**inputs, temperature=0.1, max_new_tokens=200, eos_token_id=eos_token_id)\n",
    "\n",
    "    #On décode la réponse renvoyée par le modèle : \n",
    "    response = tokenizer.decode(outputs[0],skip_special_tokens=True)\n",
    "    print(response)\n",
    "    \n",
    "    #Pour les stats :\n",
    "    result_response = \"Réponse correcte\"\n",
    "elif len(document) == 0:\n",
    "    prompt_template = \"\"\"\n",
    "    Répond à la question :\"\"\" + user_text\n",
    "    \n",
    "    #On remplace les mots par des vecteurs : \n",
    "    inputs = tokenizer(prompt_template,return_tensors=\"pt\")\n",
    "    print(\"Longueur token du prompt : \",tokenizer['input_ids'].shape[1])\n",
    "    eos_token_id = tokenizer.eos_token_id  # Utilise le token EOS pour arrêter la génération\n",
    "\n",
    "    # Permet de faire répondre le modèle sur les vecteurs que l'on vient de créer\n",
    "    outputs = model.generate(**inputs, temperature=0.1, max_new_tokens=500, eos_token_id=eos_token_id)\n",
    "\n",
    "    #On décode la réponse renvoyée par le modèle : \n",
    "    response = tokenizer.decode(outputs[0],skip_special_tokens=True) + \"\\n⚠️ CETTE REPONSE A ETE FOURNI SANS DOCUMENT ANNEXE, ELLE EST DONC GENERALE ⚠️\"\n",
    "    print(response)\n",
    "    \n",
    "    #Pour les stats :\n",
    "    result_response = \"Réponse hors-sujet sans fichier\"\n",
    "else:\n",
    "    #Si il n'y a aucune réponse assez similaire (seuil 0.6)\n",
    "    response = DEFAULT_RESPONSE\n",
    "    result_response = \"Hors-sujet\"\n",
    "t1 = time.time()\n",
    "total_time = round(t1-t0,5)\n",
    "\n",
    "#Inscription de la date : \n",
    "date_actuelle = datetime.now().strftime(\"%d/%m, %H:%M:%S\")\n",
    "# Inscription dans le fichier txt : \n",
    "with open(\"data_saved_v2.txt\", \"a\", newline=\"\", encoding=\"utf-8\") as fichier:\n",
    "    fichier.write(\"-------------------------------------------------------------------\\n\")\n",
    "    fichier.write(\"Test du : \" + date_actuelle + \" avec modèle : \" + model_name + \"\\n\")\n",
    "    fichier.write(\"-------------------------------------------------------------------\\n\")\n",
    "    fichier.write(\"Temps d'éxecution : \" + str(total_time) + \"\\n\")\n",
    "    fichier.write(\"Question posée : \" + user_text + \"\\n\")\n",
    "    fichier.write(\"Réponse apportée : \" + response + \"\\n\")\n",
    "    fichier.write(\"===================================================================\\n\\n\")\n",
    "fichier.close()\n",
    "\n",
    "\n",
    "\n",
    "#Pareil mais en csv : \n",
    "dictio_csv = [model_name,date_actuelle,total_time,result_response]\n",
    "with open(\"data_saved.csv\",\"a\",encoding=\"utf-8\",newline=\"\") as fichier:\n",
    "    w = writer(fichier)\n",
    "    w.writerow(dictio_csv)\n",
    "    fichier.close()\n",
    "\n",
    "\n"
   ]
  }
 ],
 "metadata": {
  "kernelspec": {
   "display_name": "Python 3",
   "language": "python",
   "name": "python3"
  },
  "language_info": {
   "codemirror_mode": {
    "name": "ipython",
    "version": 3
   },
   "file_extension": ".py",
   "mimetype": "text/x-python",
   "name": "python",
   "nbconvert_exporter": "python",
   "pygments_lexer": "ipython3",
   "version": "3.13.3"
  }
 },
 "nbformat": 4,
 "nbformat_minor": 5
}
